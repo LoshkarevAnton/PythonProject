{
  "nbformat": 4,
  "nbformat_minor": 0,
  "metadata": {
    "colab": {
      "provenance": []
    },
    "kernelspec": {
      "name": "python3",
      "display_name": "Python 3"
    },
    "language_info": {
      "name": "python"
    }
  },
  "cells": [
    {
      "cell_type": "markdown",
      "source": [
        "# Задание 1"
      ],
      "metadata": {
        "id": "_YIjzjP2-bJM"
      }
    },
    {
      "cell_type": "markdown",
      "source": [
        "## Часть 1"
      ],
      "metadata": {
        "id": "HGy4Bm0W-dTS"
      }
    },
    {
      "cell_type": "markdown",
      "source": [
        "Напишите такой класс Animal, чтобы при вызове его классового метода get_heighest() возвращался рост самого высокого из экземпляров"
      ],
      "metadata": {
        "id": "Y5BfDl1c-hjg"
      }
    },
    {
      "cell_type": "code",
      "source": [
        "class Animal():\n",
        "  highest = []\n",
        "\n",
        "  def __init__(self, name, height):\n",
        "    self.name = name\n",
        "    self.height = height\n",
        "    Animal.highest.append(height)\n",
        "\n",
        "  def speak(self):\n",
        "    print(\"...\")\n",
        "\n",
        "  @classmethod\n",
        "  def get_highest(cls):\n",
        "    return max(cls.highest)"
      ],
      "metadata": {
        "id": "hm2-cMQN-tj_"
      },
      "execution_count": null,
      "outputs": []
    },
    {
      "cell_type": "code",
      "source": [
        "a1 = Animal(\"Alex\", 200)\n",
        "a2 = Animal(\"Melman\", 400)\n",
        "a3 = Animal(\"King Julien XIII\", 40)\n",
        "a4 = Animal(\"Maurice\", 40)\n",
        "assert Animal.get_highest() == 400\n",
        "print(Animal.get_highest())"
      ],
      "metadata": {
        "id": "7pu3innD_Go9",
        "colab": {
          "base_uri": "https://localhost:8080/"
        },
        "outputId": "3f89ff0e-9a64-47c2-d92e-2962d01d674f"
      },
      "execution_count": null,
      "outputs": [
        {
          "output_type": "stream",
          "name": "stdout",
          "text": [
            "400\n"
          ]
        }
      ]
    },
    {
      "cell_type": "markdown",
      "source": [
        "## Часть 2"
      ],
      "metadata": {
        "id": "tWP04-tV-fCO"
      }
    },
    {
      "cell_type": "markdown",
      "source": [
        "Все же считать всех животных просто.. животными это странно. Давайте заведем каждому животному по своему классу, унаследовавшись от класса Animal, при этом сделайте так, чтобы при сравнении двух животных только для животных одного вида возвращалось True"
      ],
      "metadata": {
        "id": "i7G11R4vAGmM"
      }
    },
    {
      "cell_type": "code",
      "source": [
        "class Lion(Animal):\n",
        "  def __eq__(self, other):\n",
        "      return isinstance(other, Lion)\n",
        "  \n",
        "class Lemur(Animal):\n",
        "  def __eq__(self, other):\n",
        "      return isinstance(other, Lemur)\n",
        "\n",
        "class Giraffe(Animal):\n",
        "  def __eq__(self, other):\n",
        "      return isinstance(other, Giraffe)"
      ],
      "metadata": {
        "id": "ubVsEaQnAFxb"
      },
      "execution_count": null,
      "outputs": []
    },
    {
      "cell_type": "code",
      "source": [
        "a1 = Lion(\"Alex\", 200)\n",
        "a2 = Giraffe(\"Melman\", 400)\n",
        "a3 = Lemur(\"King Julien XIII\", 40)\n",
        "a4 = Lemur(\"Maurice\", 40)\n",
        "assert a4 == a3\n",
        "assert a1 != a2\n",
        "assert a2 != a4\n",
        "\n",
        "print(a4 == a3)\n",
        "print(a1 != a2)\n",
        "print(a2 != a4)"
      ],
      "metadata": {
        "id": "-UVYKiOUA2f0",
        "colab": {
          "base_uri": "https://localhost:8080/"
        },
        "outputId": "585c0fe3-631e-4559-9d31-058abccc7b28"
      },
      "execution_count": null,
      "outputs": [
        {
          "output_type": "stream",
          "name": "stdout",
          "text": [
            "True\n",
            "True\n",
            "True\n"
          ]
        }
      ]
    },
    {
      "cell_type": "markdown",
      "source": [
        "## Часть 3"
      ],
      "metadata": {
        "id": "xtvFEu1m-fp2"
      }
    },
    {
      "cell_type": "markdown",
      "source": [
        "Это все здорово, но как-то неправильно, что класс Animal имеет метод speak, а классы-потомки не определяют свою реализацию. Давайте сделаем так, чтобы все виды животных были обязаны иметь свою реализацию метода speak, но просто animal'ов уже у нас не было"
      ],
      "metadata": {
        "id": "ZCDkRnrFB9cJ"
      }
    },
    {
      "cell_type": "code",
      "source": [
        "import abc\n",
        "from abc import abstractclassmethod\n",
        "\n",
        "class Animal(abc.ABC):\n",
        "  high = []\n",
        "\n",
        "  def __init__(self, name, height):\n",
        "    self.name = name\n",
        "    self.height = height\n",
        "    Animal.high.append(height)\n",
        "\n",
        "\n",
        "  @abstractclassmethod\n",
        "  def speak(self):\n",
        "      pass\n",
        "\n",
        "  @classmethod\n",
        "  def get_highest(cls):\n",
        "    return max(cls.high)\n",
        "\n",
        "class Lion(Animal):\n",
        "  def speak(self):\n",
        "      pass\n",
        "  \n",
        "class Lemur(Animal):\n",
        "  def speak(self):\n",
        "      pass\n",
        "\n",
        "class Giraffe(Animal):\n",
        "  def speak(self):\n",
        "      pass"
      ],
      "metadata": {
        "id": "EEik9OisB8_u"
      },
      "execution_count": null,
      "outputs": []
    },
    {
      "cell_type": "code",
      "source": [
        "import unittest\n",
        "from contextlib import contextmanager\n",
        "\n",
        "class AnimalTestCase(unittest.TestCase):\n",
        "  @contextmanager\n",
        "  def assertNotRaises(self, exc_type):\n",
        "    print(0)\n",
        "    try:\n",
        "      yield None\n",
        "    except exc_type:\n",
        "      raise self.failureException('{} raised'.format(exc_type.__name__))\n",
        "\n",
        "  def test_create_animal_instance(self):\n",
        "    with self.assertRaises(TypeError):\n",
        "        a = Animal(\"\", 0)\n",
        "  \n",
        "  def test_create_zebra(self):\n",
        "    with self.assertRaises(TypeError):\n",
        "      class Zebra(Animal):\n",
        "        pass\n",
        "      a = Zebra(\"\", 0)\n",
        "  \n",
        "  def test_create_animals(self):\n",
        "    with self.assertNotRaises(TypeError):\n",
        "      a1 = Lion(\"Alex\", 200)\n",
        "      a2 = Giraffe(\"Melman\", 400)\n",
        "      a3 = Lemur(\"King Julien XIII\", 40)\n",
        "      a4 = Lemur(\"Maurice\", 40)\n",
        "      a1.speak()\n",
        "      a2.speak()\n",
        "      a3.speak()\n",
        "      a4.speak()\n",
        "\n",
        "unittest.main(argv=[''], verbosity=0, exit=False)"
      ],
      "metadata": {
        "colab": {
          "base_uri": "https://localhost:8080/"
        },
        "id": "tLY5yBMHCmZ8",
        "outputId": "a59a67dc-2986-4ace-b2d6-4b24e5dad304"
      },
      "execution_count": null,
      "outputs": [
        {
          "output_type": "stream",
          "name": "stdout",
          "text": [
            "0\n"
          ]
        },
        {
          "output_type": "stream",
          "name": "stderr",
          "text": [
            "----------------------------------------------------------------------\n",
            "Ran 3 tests in 0.002s\n",
            "\n",
            "OK\n"
          ]
        },
        {
          "output_type": "execute_result",
          "data": {
            "text/plain": [
              "<unittest.main.TestProgram at 0x7fd56a7706d0>"
            ]
          },
          "metadata": {},
          "execution_count": 26
        }
      ]
    },
    {
      "cell_type": "markdown",
      "source": [
        "Вы должны увидеть такой результат\n",
        "\n",
        "0\n",
        "----------------------------------------------------------------------\n",
        "Ran 3 tests in 0.002s\n",
        "\n",
        "OK\n",
        "<unittest.main.TestProgram at 0x7f081faf2190>"
      ],
      "metadata": {
        "id": "qDLskPaVFmEi"
      }
    },
    {
      "cell_type": "markdown",
      "source": [
        "# Задание 2"
      ],
      "metadata": {
        "id": "iEna-ueV-Phw"
      }
    },
    {
      "cell_type": "markdown",
      "metadata": {
        "id": "no7ko6P5pTAf"
      },
      "source": [
        "## Исходные данные"
      ]
    },
    {
      "cell_type": "markdown",
      "metadata": {
        "id": "rkXrdpzoguGi"
      },
      "source": [
        "Представим ситуацию, что вы нашли где-то целый архив с файлами переводов и решили обработать эти файлы.  Проблема в том, что все файлы имеют разные форматы:"
      ]
    },
    {
      "cell_type": "code",
      "metadata": {
        "id": "Z5_PlvHeggav"
      },
      "source": [
        "#.xliff\n",
        "file1 = '''\n",
        "<?xml version=\"1.0\" encoding=\"UTF-8\"?>\n",
        "<xliff version=\"1.2\"\n",
        "  xmlns=\"urn:oasis:names:tc:xliff:document:1.2\"\n",
        "  xmlns:xsi=\"http://www.w3.org/2001/XMLSchema-instance\"\n",
        "  xsi:schemaLocation=\"urn:oasis:names:tc:xliff:document:1.2 xliff-core-1.2-strict.xsd\">\n",
        "<file original=\"sample.properties\"\n",
        "  source-language=\"en\" target-language=\"de-AT\"\n",
        "  datatype=\"javapropertyresourcebundle\">\n",
        "<body>\n",
        "   <trans-unit id=\"1\" resname=\"welcome\">\n",
        "      <source xml:lang=\"en\">Hooray, you're here! The day just got better - enjoy the following tips!</source>\n",
        "      <target xml:lang=\"de-AT\">Hurra, du bist hier! Der Tag ist gerettet - nutze die folgenden Tipps!</target>\n",
        "   </trans-unit>\n",
        "   <trans-unit id=\"2\" resname=\"text_segment\">\n",
        "      <source xml:lang=\"en\">A section of text like this is known as a text segment. Start rockin' your translations now!</source>\n",
        "      <target xml:lang=\"de-AT\">Eine Textpassage wie diese bezeichnen wir als Textsegment. Starte jetzt mit deinen Übersetzungen durch!</target>\n",
        "   </trans-unit>\n",
        "   <trans-unit id=\"3\" resname=\"tab_shortcut\">\n",
        "      <source xml:lang=\"en\">Arriba, Arriba! Andale, Andale! Be fast as Speedy Gonzales. Just hit TAB to save and go to the next text segment, once you're done.</source>\n",
        "      <target xml:lang=\"de-AT\">Arriba, Arriba! Andale, Andale! Sei schneller als Speedy Gonzales. Springe mit TAB ins nächste Textsegment, sobald du fertig bist. Deine Änderungen werden automatisch gespeichert.</target>\n",
        "   </trans-unit>\n",
        "   <trans-unit id=\"4\" resname=\"love\">\n",
        "      <source xml:lang=\"en\">Made with ❤</source>\n",
        "      <target xml:lang=\"de-AT\">❤</target>\n",
        "      <note>lh-check { min: 10, max: 15 }</note>\n",
        "   </trans-unit>\n",
        "</body>\n",
        "</file>\n",
        "</xliff>\n",
        "'''\n",
        "\n",
        "#.po\n",
        "file2 = '''\n",
        "msgid \"\"\n",
        "msgstr \"\"\n",
        "\"Project-Id-Version: LingoHub 2.2.4\\n\"\n",
        "\"Report-Msgid-Bugs-To: \\n\"\n",
        "\"POT-Creation-Date: 2015-03-05 19:22+0200\\n\"\n",
        "\"PO-Revision-Date: 2015-04-29 10:16+0100\\n\"\n",
        "\"Last-Translator: Translator <translator@lingohub.com>\\n\"\n",
        "\"MIME-Version: 1.0\\n\"\n",
        "\"Content-Type: text/plain; charset=UTF-8\\n\"\n",
        "\"Content-Transfer-Encoding: 8bit\\n\"\n",
        "\"Plural-Forms: nplurals=2; plural=n>1;\\n\"\n",
        "\n",
        "msgid \"Hooray, you're here! The day just got better - enjoy the following tips!\"\n",
        "msgstr \"Hurra, du bist hier! Der Tag ist gerettet - nutze die folgenden Tipps!\"\n",
        "\n",
        "msgid \"A section of text like this is known as a text segment. Start rockin' your translations now!\"\n",
        "msgstr \"Eine Textpassage wie diese bezeichnen wir als Textsegment. Starte jetzt mit deinen Übersetzungen durch!\"\n",
        "\n",
        "msgid \"Arriba, Arriba! Andale, Andale! Be fast as Speedy Gonzales. Just hit TAB to save and go to the next text segment, once you're done.\"\n",
        "msgstr \"Arriba, Arriba! Andale, Andale! Sei schneller als Speedy Gonzales. Springe mit TAB ins nächste Textsegment, sobald du fertig bist. Deine Änderungen werden automatisch gespeichert.\"\n",
        "\n",
        "msgid \"Made with ❤\"\n",
        "msgstr \"❤\"\n",
        "'''\n",
        "\n",
        "#.po\n",
        "file3 = '''\n",
        "msgid \"\"\n",
        "msgstr \"\"\n",
        "\"Project-Id-Version: LingoHub 2.2.4\\n\"\n",
        "\"Report-Msgid-Bugs-To: \\n\"\n",
        "\"POT-Creation-Date: 2015-03-05 19:22+0200\\n\"\n",
        "\"PO-Revision-Date: 2015-04-29 10:16+0100\\n\"\n",
        "\"Last-Translator: Translator <translator@lingohub.com>\\n\"\n",
        "\"MIME-Version: 1.0\\n\"\n",
        "\"Content-Type: text/plain; charset=UTF-8\\n\"\n",
        "\"Content-Transfer-Encoding: 8bit\\n\"\n",
        "\"Plural-Forms: nplurals=2; plural=n>1;\\n\"\n",
        "\n",
        "msgid \"Hooray, you're here! The day just got better - enjoy the following tips!\"\n",
        "msgstr \"Hurrah, tu es là. Ça fait une bonne journée - profite des renseignements suivants !\"\n",
        "\n",
        "msgid \"A section of text like this is known as a text segment. Start rockin' your translations now!\"\n",
        "msgstr \"Un tel extrait est qualifié de segment du texte chez nous. C’est parti – commence tes traductions tout de suite/maintenant !\"\n",
        "\n",
        "msgid \"Arriba, Arriba! Andale, Andale! Be fast as Speedy Gonzales. Just hit TAB to save and go to the next text segment, once you're done.\"\n",
        "msgstr \"Arriba, Arriba ! Andale, Andale ! Prends Speedy Gonzales de vitesse. Appuie sur TAB pour sauvegarder et continuer avec le segment prochain dès que tu as fini.\"\n",
        "\n",
        "msgid \"We just like to see you happy, that's why LingoChecks automatically check translations for predetermined criteria.\\n Among other checks LingoHub verifies if %s used in the original text are also present in translated texts.\"\n",
        "msgstr \"Bazinga !\"\n",
        "\n",
        "msgid \"Made with ❤\"\n",
        "msgstr \"❤\"\n",
        "'''\n",
        "\n",
        "# .ts\n",
        "file4 = '''\n",
        "<?xml version=\"1.0\" encoding=\"utf-8\"?>\n",
        "<!DOCTYPE TS>\n",
        "<TS version=\"2.1\" language=\"de_AT\">\n",
        "<context>\n",
        "    <name>examples</name>\n",
        "    <message>\n",
        "        <source>Hooray, you're here! The day just got better - enjoy the following tips!</source>\n",
        "        <translation>Hurra, du bist hier! Der Tag ist gerettet - nutze die folgenden Tipps!</translation>\n",
        "    </message>\n",
        "    <message>\n",
        "        <source>A section of text like this is known as a text segment. Start rockin' your translations now!</source>\n",
        "\t      <translation>Eine Textpassage wie diese bezeichnen wir als Textsegment. Starte jetzt mit deinen Übersetzungen durch!</translation>\n",
        "    </message>\n",
        "    <message>\n",
        "        <source>Arriba, Arriba! Andale, Andale! Be fast as Speedy Gonzales. Just hit TAB to save and go to the next text segment, once you're done.</source>\n",
        "\t      <translation>Arriba, Arriba! Andale, Andale! Sei schneller als Speedy Gonzales. Springe mit TAB ins nächste Textsegment, sobald du fertig bist. Deine Änderungen werden automatisch gespeichert.</translation>\n",
        "    </message>\n",
        "    <message>\n",
        "        <source>Made with ❤</source>\n",
        "        <translation>❤</translation>\n",
        "        <comment>lh-check { min: 10, max: 15 }</comment>\n",
        "    </message>\n",
        "</context>\n",
        "</TS>\n",
        "'''\n",
        "\n",
        "# .ts\n",
        "file5 = '''\n",
        "<?xml version=\"1.0\" encoding=\"utf-8\"?>\n",
        "<!DOCTYPE TS>\n",
        "<TS version=\"2.1\" language=\"fr\">\n",
        "<context>\n",
        "    <name>examples</name>\n",
        "    <message>\n",
        "        <source>Hooray, you're here! The day just got better - enjoy the following tips!</source>\n",
        "        <translation>Hurrah, tu es là. Ça fait une bonne journée - profite des renseignements suivants !</translation>\n",
        "    </message>\n",
        "    <message>\n",
        "        <source>A section of text like this is known as a text segment. Start rockin' your translations now!</source>\n",
        "\t      <translation>Un tel extrait est qualifié de segment du texte chez nous. C’est parti – commence tes traductions tout de suite/maintenant !</translation>\n",
        "    </message>\n",
        "    <message>\n",
        "        <source>Arriba, Arriba! Andale, Andale! Be fast as Speedy Gonzales. Just hit TAB to save and go to the next text segment, once you're done.</source>\n",
        "\t      <translation>Arriba, Arriba ! Andale, Andale ! Prends Speedy Gonzales de vitesse. Appuie sur TAB pour sauvegarder et continuer avec le segment prochain dès que tu as fini.</translation>\n",
        "    </message>\n",
        "    <message>\n",
        "        <source>Made with ❤</source>\n",
        "        <translation>❤</translation>\n",
        "        <comment>lh-check { min: 10, max: 15 }</comment>\n",
        "    </message>\n",
        "</context>\n",
        "</TS>\n",
        "'''"
      ],
      "execution_count": 13,
      "outputs": []
    },
    {
      "cell_type": "markdown",
      "metadata": {
        "id": "alF6cGlUpOkk"
      },
      "source": [
        "## Часть 1"
      ]
    },
    {
      "cell_type": "markdown",
      "metadata": {
        "id": "GeRBQqq9oMX1"
      },
      "source": [
        "Мы хотим:\n",
        "- уметь распарсить файлы разного вида\n",
        "- уметь переводить файлы из одного формата в другой\n",
        "- для тех форматов, где язык не указан, хотим вызывать какой-то метод/функцию для определения языка\n",
        "- уметь собирать статистику над файлами всех форматов (что-то типа \"а посчиатйте мне, сколько раз среди заданного куска массива с файлами переводов какой язык встречается\")"
      ]
    },
    {
      "cell_type": "code",
      "source": [
        "!pip install translate"
      ],
      "metadata": {
        "id": "jrukExwpdbOR"
      },
      "execution_count": null,
      "outputs": []
    },
    {
      "cell_type": "code",
      "source": [
        "!pip install translate-toolkit[all]"
      ],
      "metadata": {
        "colab": {
          "base_uri": "https://localhost:8080/"
        },
        "id": "3YL4RNbVe3mS",
        "outputId": "ec4efd8a-0df6-4b36-c34d-546f2d5c6cab"
      },
      "execution_count": 14,
      "outputs": [
        {
          "output_type": "stream",
          "name": "stdout",
          "text": [
            "Looking in indexes: https://pypi.org/simple, https://us-python.pkg.dev/colab-wheels/public/simple/\n",
            "Requirement already satisfied: translate-toolkit[all] in /usr/local/lib/python3.8/dist-packages (3.8.0)\n",
            "Requirement already satisfied: lxml>=4.6.3 in /usr/local/lib/python3.8/dist-packages (from translate-toolkit[all]) (4.9.2)\n",
            "Requirement already satisfied: aeidon==1.11 in /usr/local/lib/python3.8/dist-packages (from translate-toolkit[all]) (1.11)\n",
            "Requirement already satisfied: python-Levenshtein>=0.12 in /usr/local/lib/python3.8/dist-packages (from translate-toolkit[all]) (0.20.9)\n",
            "Requirement already satisfied: charset-normalizer==3.0.1 in /usr/local/lib/python3.8/dist-packages (from translate-toolkit[all]) (3.0.1)\n",
            "Requirement already satisfied: pyenchant==3.2.2 in /usr/local/lib/python3.8/dist-packages (from translate-toolkit[all]) (3.2.2)\n",
            "Requirement already satisfied: vobject==0.9.6.1 in /usr/local/lib/python3.8/dist-packages (from translate-toolkit[all]) (0.9.6.1)\n",
            "Requirement already satisfied: cheroot==9.0.0 in /usr/local/lib/python3.8/dist-packages (from translate-toolkit[all]) (9.0.0)\n",
            "Requirement already satisfied: phply==1.2.5 in /usr/local/lib/python3.8/dist-packages (from translate-toolkit[all]) (1.2.5)\n",
            "Requirement already satisfied: iniparse==0.5 in /usr/local/lib/python3.8/dist-packages (from translate-toolkit[all]) (0.5)\n",
            "Requirement already satisfied: BeautifulSoup4>=4.3 in /usr/local/lib/python3.8/dist-packages (from translate-toolkit[all]) (4.6.3)\n",
            "Requirement already satisfied: ruamel.yaml==0.17.21 in /usr/local/lib/python3.8/dist-packages (from translate-toolkit[all]) (0.17.21)\n",
            "Requirement already satisfied: pycountry==22.3.5 in /usr/local/lib/python3.8/dist-packages (from translate-toolkit[all]) (22.3.5)\n",
            "Requirement already satisfied: pyparsing==3.0.9 in /usr/local/lib/python3.8/dist-packages (from translate-toolkit[all]) (3.0.9)\n",
            "Requirement already satisfied: fluent.syntax==0.18.1 in /usr/local/lib/python3.8/dist-packages (from translate-toolkit[all]) (0.18.1)\n",
            "Requirement already satisfied: chardet>=2.2.1 in /usr/local/lib/python3.8/dist-packages (from aeidon==1.11->translate-toolkit[all]) (3.0.4)\n",
            "Requirement already satisfied: six>=1.11.0 in /usr/local/lib/python3.8/dist-packages (from cheroot==9.0.0->translate-toolkit[all]) (1.15.0)\n",
            "Requirement already satisfied: jaraco.functools in /usr/local/lib/python3.8/dist-packages (from cheroot==9.0.0->translate-toolkit[all]) (3.5.2)\n",
            "Requirement already satisfied: more-itertools>=2.6 in /usr/local/lib/python3.8/dist-packages (from cheroot==9.0.0->translate-toolkit[all]) (9.0.0)\n",
            "Requirement already satisfied: ply in /usr/local/lib/python3.8/dist-packages (from phply==1.2.5->translate-toolkit[all]) (3.11)\n",
            "Requirement already satisfied: setuptools in /usr/local/lib/python3.8/dist-packages (from pycountry==22.3.5->translate-toolkit[all]) (57.4.0)\n",
            "Requirement already satisfied: ruamel.yaml.clib>=0.2.6 in /usr/local/lib/python3.8/dist-packages (from ruamel.yaml==0.17.21->translate-toolkit[all]) (0.2.7)\n",
            "Requirement already satisfied: python-dateutil>=2.4.0 in /usr/local/lib/python3.8/dist-packages (from vobject==0.9.6.1->translate-toolkit[all]) (2.8.2)\n",
            "Requirement already satisfied: Levenshtein==0.20.9 in /usr/local/lib/python3.8/dist-packages (from python-Levenshtein>=0.12->translate-toolkit[all]) (0.20.9)\n",
            "Requirement already satisfied: rapidfuzz<3.0.0,>=2.3.0 in /usr/local/lib/python3.8/dist-packages (from Levenshtein==0.20.9->python-Levenshtein>=0.12->translate-toolkit[all]) (2.13.7)\n"
          ]
        }
      ]
    },
    {
      "cell_type": "code",
      "source": [
        "from bs4 import BeautifulSoup\n",
        "import re\n",
        "import lxml"
      ],
      "metadata": {
        "id": "imQ8HWUVS03w"
      },
      "execution_count": 15,
      "outputs": []
    },
    {
      "cell_type": "code",
      "source": [
        "soup = BeautifulSoup(file1, \"xml\")\n",
        "soup.prettify()"
      ],
      "metadata": {
        "colab": {
          "base_uri": "https://localhost:8080/",
          "height": 88
        },
        "id": "nhhd-7GBT5DA",
        "outputId": "9fc933ef-fe6b-46c2-b260-e53d39b1976e"
      },
      "execution_count": 18,
      "outputs": [
        {
          "output_type": "execute_result",
          "data": {
            "text/plain": [
              "'<?xml version=\"1.0\" encoding=\"utf-8\"?>\\n<?xml version=\"1.0\" encoding=\"UTF-8\"?>\\n<xliff version=\"1.2\" xmlns:=\"urn:oasis:names:tc:xliff:document:1.2\" xmlns:xsi=\"http://www.w3.org/2001/XMLSchema-instance\" xsi:schemaLocation=\"urn:oasis:names:tc:xliff:document:1.2 xliff-core-1.2-strict.xsd\">\\n <file datatype=\"javapropertyresourcebundle\" original=\"sample.properties\" source-language=\"en\" target-language=\"de-AT\">\\n  <body>\\n   <trans-unit id=\"1\" resname=\"welcome\">\\n    <source xml:lang=\"en\">\\n     Hooray, you\\'re here! The day just got better - enjoy the following tips!\\n    </source>\\n    <target xml:lang=\"de-AT\">\\n     Hurra, du bist hier! Der Tag ist gerettet - nutze die folgenden Tipps!\\n    </target>\\n   </trans-unit>\\n   <trans-unit id=\"2\" resname=\"text_segment\">\\n    <source xml:lang=\"en\">\\n     A section of text like this is known as a text segment. Start rockin\\' your translations now!\\n    </source>\\n    <target xml:lang=\"de-AT\">\\n     Eine Textpassage wie diese bezeichnen wir als Textsegment. Starte jetzt mit deinen Übersetzungen durch!\\n    </target>\\n   </trans-unit>\\n   <trans-unit id=\"3\" resname=\"tab_shortcut\">\\n    <source xml:lang=\"en\">\\n     Arriba, Arriba! Andale, Andale! Be fast as Speedy Gonzales. Just hit TAB to save and go to the next text segment, once you\\'re done.\\n    </source>\\n    <target xml:lang=\"de-AT\">\\n     Arriba, Arriba! Andale, Andale! Sei schneller als Speedy Gonzales. Springe mit TAB ins nächste Textsegment, sobald du fertig bist. Deine Änderungen werden automatisch gespeichert.\\n    </target>\\n   </trans-unit>\\n   <trans-unit id=\"4\" resname=\"love\">\\n    <source xml:lang=\"en\">\\n     Made with ❤\\n    </source>\\n    <target xml:lang=\"de-AT\">\\n     ❤\\n    </target>\\n    <note>\\n     lh-check { min: 10, max: 15 }\\n    </note>\\n   </trans-unit>\\n  </body>\\n </file>\\n</xliff>'"
            ],
            "application/vnd.google.colaboratory.intrinsic+json": {
              "type": "string"
            }
          },
          "metadata": {},
          "execution_count": 18
        }
      ]
    },
    {
      "cell_type": "code",
      "source": [
        "\n",
        "\n",
        "class xliff():\n",
        "  def __init__(self, text):\n",
        "    self.soup = BeautifulSoup(text, \"xml\")\n",
        "    self.text = text\n",
        "    self.language_src = None\n",
        "    self.language_tgt = None\n",
        "\n",
        "  def get_langugage(self, text):\n",
        "    #Парсим файл следующим образом:\n",
        "    self.soup = BeautifulSoup(text, \"xml\")\n",
        "    #Получаем язык из source xml:lang=\n",
        "    #Вероятнее всего делаем это через soup.find_all(\"source\")\n",
        "    #Запускаем цикл, перебираем все source, вычленяем из них всё, что после xml lang =\n",
        "    #Присваеваем language = то, что нашли \n",
        "    return self.langauge\n",
        "\n",
        "  def define_language(self, text):\n",
        "    #Парсим файл следующим образом:\n",
        "    self.soup = BeautifulSoup(text, \"xml\")\n",
        "    #Получаем язык из target xml:lang=\n",
        "    #Вероятнее всего через soup.find_all(\"target\")\n",
        "    #Запускаем цикл, перебираем все target, вычленяем из них всё, что после xml lang =\n",
        "\n",
        "\n",
        "\n",
        "class po():\n",
        "  def __init__(self, text):\n",
        "    self.text = text  \n",
        "    self.language_src = None\n",
        "    self.language_tgt = None\n",
        "\n",
        "  def to_xliff(self):\n",
        "    # convert po to xliff using ...\n",
        "    return \"\"\n",
        "\n",
        "  def text_to_xliff(self):\n",
        "    # convert po text to xliff text using ...\n",
        "    new_xliff_text = convert_po_to_xliff_text()\n",
        "    return xliff(new_xliff_text)\n",
        "\n",
        "  \n",
        "  def define_language(self):\n",
        "    source_example = re.findAll(\"msgid\")\n",
        "    #Скорее всего используем какой-нибудь langdetect, чтобы определить язык\n",
        "    #Сам текст подхватим из строки, воспользовавшись регуляркой re.findAll(\"msgid\")\n",
        "    #Определяем язык этого сообщения, он же язык с которого переводят (source)\n",
        "    target_example = re.findAll(\"msgstr\")\n",
        "    #Скорее всего используем какой-нибудь langdetect, чтобы определить язык\n",
        "    #Сам текст подхватим из строки, воспользовавшись регуляркой re.findAll(\"msgstr\")\n",
        "    #Определяем язык этого сообщения, он же язык НА который переводят (target)\n",
        "\n",
        "    #Все переводные строки (msgid и msgstr) нужно append к списку translations\n",
        "    #translations = []\n",
        "    #translations = translations.append(self.text)\n",
        "\n",
        "\n",
        "for item in translations:\n",
        "  print(item.define_language())"
      ],
      "metadata": {
        "id": "Hv360SzqIHUp"
      },
      "execution_count": null,
      "outputs": []
    },
    {
      "cell_type": "markdown",
      "metadata": {
        "id": "9vl07cDVpN9P"
      },
      "source": [
        "# Часть 2"
      ]
    },
    {
      "cell_type": "markdown",
      "metadata": {
        "id": "0FM84jTLpbyx"
      },
      "source": [
        "Мы нашли еще данных, но уже в других форматах:"
      ]
    },
    {
      "cell_type": "code",
      "metadata": {
        "id": "gjJ8QpLCpk_k"
      },
      "source": [
        "# .csv\n",
        "file6 = '''\n",
        "\"Title\",\"Description\",\"en\", \"de-AT\"\n",
        "\"welcome\",,\"Hooray, you're here! The day just got better - enjoy the following tips!\", \"Hurra, du bist hier! Der Tag ist gerettet - nutze die folgenden Tipps!\"\n",
        "\"text_segment\",,\"A section of text like this is known as a text segment. Start rockin' your translations now!\", \"Eine Textpassage wie diese bezeichnen wir als Textsegment. Starte jetzt mit deinen Übersetzungen durch!\"\n",
        "\"tab_shortcut\",,\"Arriba, Arriba! Andale, Andale! Be fast as Speedy Gonzales. Just hit TAB to save and go to the next text segment, once you're done.\", \"Arriba, Arriba! Andale, Andale! Sei schneller als Speedy Gonzales. Springe mit TAB ins nächste Textsegment, sobald du fertig bist. Deine Änderungen werden automatisch gespeichert.\"\n",
        "\"love\",\"lh-check { max: 15, min: 10 }\",\"Made with ❤\", \"❤\"\n",
        "'''\n",
        "\n",
        "# .resw\n",
        "file7_1 = '''\n",
        "<?xml version=\"1.0\" encoding=\"utf-8\"?>\n",
        "<root>\n",
        "  <data name=\"welcome\" xml:space=\"preserve\">\n",
        "    <value>Hooray, you're here! The day just got better - enjoy the following tips!</value>\n",
        "  </data>\n",
        "  <data name=\"text_segment\" xml:space=\"preserve\">\n",
        "    <value>A section of text like this is known as a text segment. Start rockin' your translations now!</value>\n",
        "  </data>\n",
        "  <data name=\"tab_shortcut\" xml:space=\"preserve\">\n",
        "    <value>Arriba, Arriba! Andale, Andale! Be fast as Speedy Gonzales. Just hit TAB to save and go to the next text segment, once you're done.</value>\n",
        "  </data>\n",
        "  <data name=\"love\">\n",
        "    <value>Made with ❤</value>\n",
        "    <comment>lh-check { min: 10, max: 15 }</comment>\n",
        "  </data>\n",
        "</root>\n",
        "'''\n",
        "\n",
        "file7_2 = '''\n",
        "<?xml version=\"1.0\" encoding=\"utf-8\"?>\n",
        "<root>\n",
        "  <data name=\"welcome\" xml:space=\"preserve\">\n",
        "    <value>Hurrah, tu es là. Ça fait une bonne journée - profite des renseignements suivants !</value>\n",
        "  </data>\n",
        "  <data name=\"text_segment\" xml:space=\"preserve\">\n",
        "    <value>Un tel extrait est qualifié de segment du texte chez nous. C’est parti – commence tes traductions tout de suite/maintenant !</value>\n",
        "  </data>\n",
        "  <data name=\"tab_shortcut\" xml:space=\"preserve\">\n",
        "    <value>Arriba, Arriba ! Andale, Andale ! Prends Speedy Gonzales de vitesse. Appuie sur TAB pour sauvegarder et continuer avec le segment prochain dès que tu as fini.</value>\n",
        "  </data>\n",
        "  <data name=\"love\" xml:space=\"preserve\">\n",
        "    <value>❤</value>\n",
        "  </data>\n",
        "</root>\n",
        "'''\n",
        "\n",
        "# .php\n",
        "file8_1 = '''\n",
        "<?php\n",
        "  define(\"welcome\", \"Hooray, you're here! The day just got better - enjoy the following tips!\");\n",
        "\n",
        "  define(\"text_segment\", \"A section of text like this is known as a text segment. Start rockin' your translations now!\");\n",
        "\n",
        "  define(\"tab_shortcut\", \"Arriba, Arriba! Andale, Andale! Be fast as Speedy Gonzales. Just hit TAB to save and go to the next text segment, once you're done.\");\n",
        "\n",
        "  # lh-check { min: 10, max: 15 }\n",
        "  define(\"love\", \"Made with ❤\");\n",
        "?>\n",
        "'''\n",
        "\n",
        "file8_2 = '''\n",
        "<?php\n",
        "  define(\"welcome\", \"Hurra, du bist hier! Der Tag ist gerettet - nutze die folgenden Tipps!\");\n",
        "\n",
        "  define(\"text_segment\", \"Eine Textpassage wie diese bezeichnen wir als Textsegment. Starte jetzt mit deinen Übersetzungen durch!\");\n",
        "\n",
        "  define(\"tab_shortcut\", \"Arriba, Arriba! Andale, Andale! Sei schneller als Speedy Gonzales. Springe mit TAB ins nächste Textsegment, sobald du fertig bist. Deine Änderungen werden automatisch gespeichert.\");\n",
        "\n",
        "  define(\"love\", \"❤\");\n",
        "?>\n",
        "'''"
      ],
      "execution_count": null,
      "outputs": []
    },
    {
      "cell_type": "markdown",
      "metadata": {
        "id": "UZN5incJsN0X"
      },
      "source": [
        "Как изменится ваша модель классов для того, чтобы поддержать новые форматы?"
      ]
    },
    {
      "cell_type": "code",
      "source": [
        "class single_file_trans():\n",
        "  def parse_file(self, path_to_file):\n",
        "      self.path_to_file = path_to_file\n",
        "      re.find(path_to_file, \"welcome\")\n",
        "      re.find(path_to_file, \"text_segment\")\n",
        "      re.find(path_to_file, \"tab_shortcut\")\n",
        "      re.find(path_to_file, \"love\")\n",
        "      #Определяем язык, например, langdetect\n",
        "      #Если это действительно csv, то re.find(\"Description\") и берём всё после него\n",
        "\n",
        "class xliff(single_file_trans):\n",
        "  def parse_file(self, path_to_file):\n",
        "      self.soup = BeautifulSoup(path_to_file, \"xml\")\n",
        "      self.path_to_file = path_to_file\n",
        "      #В файле xliff язык определён, так что, смотрим в source и target\n",
        "\n",
        "\n",
        "class double_file_trans():\n",
        "  def parse_file(self, path_to_file_2, path_to_file_2):\n",
        "      self.path_to_file = path_to_file\n",
        "      self.path_to_file_2 = path_to_file_2\n",
        "\n",
        "class php(double_file_trans):\n",
        "  def __init__(self, path1, path2):\n",
        "    self.text = \"\"\n",
        "    # use super().parse_file(path1, path2)"
      ],
      "metadata": {
        "id": "tsRHBbcKLAXm"
      },
      "execution_count": null,
      "outputs": []
    }
  ]
}