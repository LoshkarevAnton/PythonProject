{
  "nbformat": 4,
  "nbformat_minor": 0,
  "metadata": {
    "colab": {
      "provenance": []
    },
    "kernelspec": {
      "name": "python3",
      "display_name": "Python 3"
    },
    "language_info": {
      "name": "python"
    }
  },
  "cells": [
    {
      "cell_type": "code",
      "execution_count": 84,
      "metadata": {
        "id": "Rz4X2nf97Q8y"
      },
      "outputs": [],
      "source": [
        "import math\n",
        "import statistics\n",
        "import numpy as np\n",
        "import matplotlib.pyplot as plt"
      ]
    },
    {
      "cell_type": "markdown",
      "source": [
        "# Постановка проблемы"
      ],
      "metadata": {
        "id": "qx7lrxOHMWU4"
      }
    },
    {
      "cell_type": "markdown",
      "source": [
        "Предположим, к нам попали данные исследований нескольких (пусть n=3) вакцин;  \n",
        "В каждом исследовании собирались данные о респондентах, с которых через 1 / 10 / 100 часов собирали оценку самочувствия  "
      ],
      "metadata": {
        "id": "w9fGj-tVMZsW"
      }
    },
    {
      "cell_type": "code",
      "source": [
        "respondents = 1000\n",
        "\n",
        "def make_research():\n",
        "  research = {\n",
        "      \"gender\": np.random.randint(0,2,respondents),            # 0 - m, 1 - f\n",
        "      \"age\": np.random.normal(25.0,20.0,respondents),\n",
        "      \"height\": np.random.normal(170.0,15.5,respondents),\n",
        "      \"weight\": np.random.normal(65.0,25.0,respondents)\n",
        "      }\n",
        "\n",
        "  feeled_bad = 0                                                # считаем, сколько всего людей ощутили себя плохо\n",
        "\n",
        "  part = np.random.randint(7,20,1)                              # доля респондентов, которые будут подвержены плохому самочувствию\n",
        "  feeled_bad += part\n",
        "\n",
        "  research[\"condition_after_1\"] = np.random.normal(\n",
        "      (5 *                                                      # мат. ожидание сдвигается: если бы исследования и не было, в среднем все ставили бы ровно 5, \n",
        "       (respondents * (1 - part/100)) +                         # но теперь 5 в среднем поставят меньшее число людей\n",
        "       1 * (respondents * part/100))                            # остальные захотят поставить 1.5 \n",
        "      / respondents,  \n",
        "                                                                                                                                                                    \n",
        "      2.0, \n",
        "      respondents\n",
        "      )\n",
        "\n",
        "  got_better = 1 if np.random.randint(0,10,1) > 7 else -1       # будем считать, что люди более склонны иметь ухудшившееся самочувствие через какое-то время\n",
        "  part = np.random.randint(\n",
        "      7 - (got_better * 2),\n",
        "      20 - (got_better * 5),\n",
        "      1) \n",
        "  feeled_bad += part\n",
        "\n",
        "  research[\"condition_after_10\"] = np.random.normal(\n",
        "      (5 *                                        \n",
        "       (respondents * (1 - part/100)) +           \n",
        "       1 * (respondents * part/100))             \n",
        "      / respondents,  \n",
        "                                                                                                                                                                    \n",
        "      1.0, \n",
        "      respondents\n",
        "      )\n",
        "\n",
        "  got_better = 1 if np.random.randint(0,10,1) > 3 else -1       # будем считать, что люди более склонны иметь улучшившееся самочувствие через продолжительное время\n",
        "  part = np.random.randint(\n",
        "      7 - (got_better * 3),\n",
        "      20 - (got_better * 7),\n",
        "      1)\n",
        "  feeled_bad += part\n",
        "\n",
        "  research[\"condition_after_100\"] = np.random.normal(\n",
        "      (5 *                                        \n",
        "       (respondents * (1 - part/100)) +           \n",
        "       1 * (respondents * part/100))            \n",
        "      / respondents,  \n",
        "                                                                                                                                                                    \n",
        "      2.5, \n",
        "      respondents\n",
        "      )\n",
        "  \n",
        "  return research"
      ],
      "metadata": {
        "id": "UTyNAuh39BJc"
      },
      "execution_count": 6,
      "outputs": []
    },
    {
      "cell_type": "code",
      "source": [
        "researh_0 = make_research()"
      ],
      "metadata": {
        "id": "dpxH_kHwHhKo"
      },
      "execution_count": 73,
      "outputs": []
    },
    {
      "cell_type": "code",
      "source": [
        "_ =plt.hist(researh_0[\"condition_after_1\"])"
      ],
      "metadata": {
        "colab": {
          "base_uri": "https://localhost:8080/",
          "height": 265
        },
        "id": "RgfX6TvdJxiy",
        "outputId": "d19cbd1a-03a7-47dd-bb03-db3201c68d89"
      },
      "execution_count": 11,
      "outputs": [
        {
          "output_type": "display_data",
          "data": {
            "text/plain": [
              "<Figure size 432x288 with 1 Axes>"
            ],
            "image/png": "[encoded data removed]"
          },
          "metadata": {
            "needs_background": "light"
          }
        }
      ]
    },
    {
      "cell_type": "code",
      "source": [
        "_ =plt.hist(researh_0[\"condition_after_10\"])"
      ],
      "metadata": {
        "colab": {
          "base_uri": "https://localhost:8080/",
          "height": 265
        },
        "id": "OjdJMqi9KUzo",
        "outputId": "e83eeb33-efae-4d78-bd16-41a65f31247d"
      },
      "execution_count": 12,
      "outputs": [
        {
          "output_type": "display_data",
          "data": {
            "text/plain": [
              "<Figure size 432x288 with 1 Axes>"
            ],
            "image/png": "[encoded data removed]"
          },
          "metadata": {
            "needs_background": "light"
          }
        }
      ]
    },
    {
      "cell_type": "code",
      "source": [
        "_ =plt.hist(researh_0[\"condition_after_100\"])"
      ],
      "metadata": {
        "colab": {
          "base_uri": "https://localhost:8080/",
          "height": 265
        },
        "id": "To5rQwXcLvuq",
        "outputId": "92434089-0313-4799-aa1b-87fb75beb356"
      },
      "execution_count": 13,
      "outputs": [
        {
          "output_type": "display_data",
          "data": {
            "text/plain": [
              "<Figure size 432x288 with 1 Axes>"
            ],
            "image/png": "[encoded data removed]"
          },
          "metadata": {
            "needs_background": "light"
          }
        }
      ]
    },
    {
      "cell_type": "markdown",
      "source": [
        "# Задание"
      ],
      "metadata": {
        "id": "Y3ItPiWBMS6V"
      }
    },
    {
      "cell_type": "markdown",
      "source": [
        "Мы хотим:\n",
        "- проверить, что с данными все в порядке (т.к. данные генерили с помощью распределений, у нас могут быть отрицательные числа, которые надо исправить на 0, а также числа больше 10, которые надо исправить на 10)\n",
        "- сравнить между собой результаты исследований разных вакцин\n",
        "- каким-либо образом представить сравнение исследований (т.е., к примеру, показать в одном пространстве сразу 3 исследования, пользуясь признаками \"средняя оценка самочувствия после 1 часа\", \"средняя оценка самочувствия после 10 часов\", \"средняя оценка самочувствия после 100 часов\""
      ],
      "metadata": {
        "id": "EL8evQcgM59h"
      }
    },
    {
      "cell_type": "markdown",
      "source": [
        "Чистим возраст"
      ],
      "metadata": {
        "id": "wfhwDbde-nb7"
      }
    },
    {
      "cell_type": "code",
      "source": [
        "age = researh_0[\"age\"].tolist()\n",
        "print(age)\n",
        "\n",
        "for i in range(len(age)):\n",
        "    age [i] = abs(round(age[i]))\n",
        "    if age[i] == 0:\n",
        "       age[i] = 1\n",
        "print(age)\n",
        "\n",
        "back_to_array = np.array(age)\n",
        "\n",
        "researh_0[\"age\"] = back_to_array\n"
      ],
      "metadata": {
        "colab": {
          "base_uri": "https://localhost:8080/"
        },
        "id": "xsomxY4t34zJ",
        "outputId": "1d329183-6455-4568-c384-0c32114283ef"
      },
      "execution_count": 222,
      "outputs": [
        {
          "output_type": "stream",
          "name": "stdout",
          "text": [
            "[29, 21, 1, 9, 25, 51, 13, 12, 37, 1, 38, 3, 49, 29, 27, 33, 22, 45, 32, 10, 51, 28, 3, 19, 17, 7, 14, 45, 21, 45, 6, 26, 53, 51, 16, 1, 24, 18, 28, 17, 33, 36, 19, 26, 21, 36, 10, 30, 17, 8, 11, 31, 36, 3, 40, 46, 37, 31, 16, 42, 37, 14, 13, 7, 25, 4, 27, 18, 42, 40, 18, 19, 33, 46, 34, 43, 36, 8, 11, 47, 45, 30, 21, 1, 42, 7, 19, 33, 2, 3, 24, 42, 25, 9, 35, 34, 9, 1, 2, 15, 13, 26, 25, 3, 36, 19, 28, 46, 47, 1, 18, 31, 15, 9, 14, 11, 27, 10, 44, 9, 26, 55, 13, 8, 29, 13, 39, 11, 4, 7, 15, 31, 61, 36, 10, 22, 16, 24, 19, 37, 17, 7, 35, 29, 44, 29, 19, 9, 21, 54, 22, 31, 20, 45, 36, 1, 12, 52, 9, 54, 26, 16, 24, 3, 20, 23, 45, 38, 32, 17, 22, 20, 20, 51, 1, 16, 16, 5, 31, 24, 16, 36, 31, 25, 39, 42, 47, 10, 63, 2, 7, 51, 12, 52, 29, 40, 43, 110, 17, 7, 2, 21, 8, 21, 41, 50, 52, 18, 14, 12, 17, 9, 9, 6, 6, 15, 9, 37, 29, 5, 59, 46, 26, 44, 19, 36, 35, 27, 30, 14, 45, 56, 23, 11, 47, 10, 41, 24, 13, 41, 46, 33, 31, 33, 39, 57, 6, 62, 72, 8, 20, 11, 5, 7, 36, 46, 27, 34, 44, 41, 21, 4, 10, 26, 32, 19, 19, 17, 50, 1, 24, 29, 40, 39, 29, 23, 78, 1, 8, 88, 48, 27, 38, 46, 42, 15, 3, 40, 13, 56, 18, 15, 33, 20, 38, 9, 17, 15, 24, 10, 27, 72, 29, 17, 31, 30, 35, 34, 7, 28, 2, 31, 21, 4, 45, 27, 13, 5, 22, 8, 10, 15, 24, 10, 21, 28, 3, 34, 27, 61, 1, 49, 47, 14, 30, 33, 10, 11, 26, 11, 15, 20, 16, 6, 57, 50, 21, 8, 31, 35, 57, 40, 20, 58, 20, 20, 9, 12, 44, 3, 39, 11, 5, 29, 29, 28, 1, 35, 33, 14, 37, 26, 31, 49, 12, 19, 16, 5, 10, 16, 19, 5, 73, 12, 34, 13, 29, 50, 33, 70, 12, 67, 34, 4, 15, 28, 31, 23, 17, 26, 5, 37, 4, 27, 17, 5, 27, 24, 34, 34, 5, 19, 3, 7, 34, 48, 9, 13, 20, 31, 22, 26, 33, 20, 3, 49, 25, 23, 58, 23, 15, 2, 43, 46, 54, 21, 19, 3, 32, 29, 39, 15, 11, 27, 15, 6, 24, 36, 30, 34, 56, 26, 59, 5, 24, 34, 54, 27, 13, 27, 5, 23, 39, 27, 27, 46, 9, 42, 1, 12, 4, 17, 14, 60, 27, 2, 16, 15, 43, 46, 30, 9, 14, 20, 2, 17, 4, 36, 31, 18, 40, 12, 11, 42, 12, 15, 11, 42, 33, 52, 4, 3, 5, 30, 43, 19, 25, 13, 29, 30, 21, 18, 1, 43, 30, 26, 44, 8, 16, 26, 54, 11, 19, 42, 65, 9, 48, 17, 42, 22, 26, 11, 32, 22, 12, 4, 43, 45, 3, 1, 4, 17, 9, 44, 1, 1, 50, 24, 12, 10, 24, 42, 18, 26, 33, 38, 43, 7, 39, 11, 48, 5, 11, 6, 43, 36, 10, 36, 43, 6, 35, 32, 34, 14, 63, 22, 1, 8, 39, 11, 10, 25, 25, 30, 14, 44, 1, 39, 17, 25, 20, 27, 39, 6, 11, 48, 49, 31, 62, 61, 8, 27, 9, 33, 35, 9, 21, 31, 23, 41, 49, 15, 8, 32, 35, 15, 28, 70, 28, 5, 21, 15, 24, 4, 5, 16, 27, 54, 58, 13, 70, 29, 31, 8, 39, 21, 14, 10, 25, 13, 2, 60, 19, 42, 30, 6, 10, 35, 20, 50, 36, 54, 4, 28, 26, 21, 49, 45, 10, 12, 21, 10, 42, 19, 5, 10, 30, 34, 55, 6, 31, 55, 39, 14, 20, 20, 16, 41, 37, 10, 32, 45, 64, 49, 4, 58, 17, 52, 18, 22, 24, 28, 11, 4, 3, 39, 38, 40, 54, 50, 36, 28, 16, 23, 40, 52, 3, 1, 4, 4, 46, 49, 27, 19, 6, 12, 24, 14, 39, 28, 34, 18, 17, 4, 24, 7, 21, 50, 54, 44, 33, 56, 3, 36, 50, 13, 42, 25, 22, 7, 5, 4, 44, 20, 63, 7, 21, 9, 11, 2, 37, 54, 17, 43, 32, 26, 38, 30, 19, 11, 8, 3, 54, 41, 40, 26, 33, 53, 1, 58, 5, 48, 40, 30, 9, 29, 1, 45, 22, 43, 5, 56, 50, 39, 38, 57, 51, 38, 20, 31, 23, 17, 38, 26, 37, 20, 23, 34, 45, 22, 25, 20, 51, 46, 61, 34, 5, 26, 24, 16, 52, 40, 39, 31, 53, 1, 27, 28, 25, 7, 26, 32, 1, 6, 43, 7, 15, 37, 17, 29, 34, 59, 22, 21, 22, 7, 42, 49, 40, 55, 55, 58, 8, 17, 22, 43, 54, 58, 14, 11, 43, 52, 43, 22, 43, 56, 28, 34, 1, 21, 17, 2, 39, 12, 4, 5, 51, 69, 56, 55, 36, 20, 15, 19, 8, 29, 35, 25, 6, 39, 30, 34, 30, 17, 49, 42, 48, 23, 50, 11, 14, 24, 16, 12, 15, 3, 20, 18, 22, 15, 51, 9, 40, 25, 5, 18, 65, 17, 53, 60, 2, 35, 11, 36, 51, 2, 37, 27, 4, 30, 62, 18, 42, 37, 14, 35, 1, 52, 48, 58, 19, 3, 4, 6, 3, 36, 10, 34, 29, 44, 44, 49, 22, 19, 29, 9, 2, 53, 11, 3, 42, 43, 34, 67, 28, 10, 12, 64, 25, 22, 56, 30, 51, 48, 4, 58, 62, 31, 33, 14, 49, 36, 54, 18, 10, 47, 14, 42, 20, 42, 5, 38, 20, 20, 6, 21, 4, 45, 38, 36, 60, 43, 23, 32, 27, 4, 4, 45, 9, 34]\n",
            "[29, 21, 1, 9, 25, 51, 13, 12, 37, 1, 38, 3, 49, 29, 27, 33, 22, 45, 32, 10, 51, 28, 3, 19, 17, 7, 14, 45, 21, 45, 6, 26, 53, 51, 16, 1, 24, 18, 28, 17, 33, 36, 19, 26, 21, 36, 10, 30, 17, 8, 11, 31, 36, 3, 40, 46, 37, 31, 16, 42, 37, 14, 13, 7, 25, 4, 27, 18, 42, 40, 18, 19, 33, 46, 34, 43, 36, 8, 11, 47, 45, 30, 21, 1, 42, 7, 19, 33, 2, 3, 24, 42, 25, 9, 35, 34, 9, 1, 2, 15, 13, 26, 25, 3, 36, 19, 28, 46, 47, 1, 18, 31, 15, 9, 14, 11, 27, 10, 44, 9, 26, 55, 13, 8, 29, 13, 39, 11, 4, 7, 15, 31, 61, 36, 10, 22, 16, 24, 19, 37, 17, 7, 35, 29, 44, 29, 19, 9, 21, 54, 22, 31, 20, 45, 36, 1, 12, 52, 9, 54, 26, 16, 24, 3, 20, 23, 45, 38, 32, 17, 22, 20, 20, 51, 1, 16, 16, 5, 31, 24, 16, 36, 31, 25, 39, 42, 47, 10, 63, 2, 7, 51, 12, 52, 29, 40, 43, 110, 17, 7, 2, 21, 8, 21, 41, 50, 52, 18, 14, 12, 17, 9, 9, 6, 6, 15, 9, 37, 29, 5, 59, 46, 26, 44, 19, 36, 35, 27, 30, 14, 45, 56, 23, 11, 47, 10, 41, 24, 13, 41, 46, 33, 31, 33, 39, 57, 6, 62, 72, 8, 20, 11, 5, 7, 36, 46, 27, 34, 44, 41, 21, 4, 10, 26, 32, 19, 19, 17, 50, 1, 24, 29, 40, 39, 29, 23, 78, 1, 8, 88, 48, 27, 38, 46, 42, 15, 3, 40, 13, 56, 18, 15, 33, 20, 38, 9, 17, 15, 24, 10, 27, 72, 29, 17, 31, 30, 35, 34, 7, 28, 2, 31, 21, 4, 45, 27, 13, 5, 22, 8, 10, 15, 24, 10, 21, 28, 3, 34, 27, 61, 1, 49, 47, 14, 30, 33, 10, 11, 26, 11, 15, 20, 16, 6, 57, 50, 21, 8, 31, 35, 57, 40, 20, 58, 20, 20, 9, 12, 44, 3, 39, 11, 5, 29, 29, 28, 1, 35, 33, 14, 37, 26, 31, 49, 12, 19, 16, 5, 10, 16, 19, 5, 73, 12, 34, 13, 29, 50, 33, 70, 12, 67, 34, 4, 15, 28, 31, 23, 17, 26, 5, 37, 4, 27, 17, 5, 27, 24, 34, 34, 5, 19, 3, 7, 34, 48, 9, 13, 20, 31, 22, 26, 33, 20, 3, 49, 25, 23, 58, 23, 15, 2, 43, 46, 54, 21, 19, 3, 32, 29, 39, 15, 11, 27, 15, 6, 24, 36, 30, 34, 56, 26, 59, 5, 24, 34, 54, 27, 13, 27, 5, 23, 39, 27, 27, 46, 9, 42, 1, 12, 4, 17, 14, 60, 27, 2, 16, 15, 43, 46, 30, 9, 14, 20, 2, 17, 4, 36, 31, 18, 40, 12, 11, 42, 12, 15, 11, 42, 33, 52, 4, 3, 5, 30, 43, 19, 25, 13, 29, 30, 21, 18, 1, 43, 30, 26, 44, 8, 16, 26, 54, 11, 19, 42, 65, 9, 48, 17, 42, 22, 26, 11, 32, 22, 12, 4, 43, 45, 3, 1, 4, 17, 9, 44, 1, 1, 50, 24, 12, 10, 24, 42, 18, 26, 33, 38, 43, 7, 39, 11, 48, 5, 11, 6, 43, 36, 10, 36, 43, 6, 35, 32, 34, 14, 63, 22, 1, 8, 39, 11, 10, 25, 25, 30, 14, 44, 1, 39, 17, 25, 20, 27, 39, 6, 11, 48, 49, 31, 62, 61, 8, 27, 9, 33, 35, 9, 21, 31, 23, 41, 49, 15, 8, 32, 35, 15, 28, 70, 28, 5, 21, 15, 24, 4, 5, 16, 27, 54, 58, 13, 70, 29, 31, 8, 39, 21, 14, 10, 25, 13, 2, 60, 19, 42, 30, 6, 10, 35, 20, 50, 36, 54, 4, 28, 26, 21, 49, 45, 10, 12, 21, 10, 42, 19, 5, 10, 30, 34, 55, 6, 31, 55, 39, 14, 20, 20, 16, 41, 37, 10, 32, 45, 64, 49, 4, 58, 17, 52, 18, 22, 24, 28, 11, 4, 3, 39, 38, 40, 54, 50, 36, 28, 16, 23, 40, 52, 3, 1, 4, 4, 46, 49, 27, 19, 6, 12, 24, 14, 39, 28, 34, 18, 17, 4, 24, 7, 21, 50, 54, 44, 33, 56, 3, 36, 50, 13, 42, 25, 22, 7, 5, 4, 44, 20, 63, 7, 21, 9, 11, 2, 37, 54, 17, 43, 32, 26, 38, 30, 19, 11, 8, 3, 54, 41, 40, 26, 33, 53, 1, 58, 5, 48, 40, 30, 9, 29, 1, 45, 22, 43, 5, 56, 50, 39, 38, 57, 51, 38, 20, 31, 23, 17, 38, 26, 37, 20, 23, 34, 45, 22, 25, 20, 51, 46, 61, 34, 5, 26, 24, 16, 52, 40, 39, 31, 53, 1, 27, 28, 25, 7, 26, 32, 1, 6, 43, 7, 15, 37, 17, 29, 34, 59, 22, 21, 22, 7, 42, 49, 40, 55, 55, 58, 8, 17, 22, 43, 54, 58, 14, 11, 43, 52, 43, 22, 43, 56, 28, 34, 1, 21, 17, 2, 39, 12, 4, 5, 51, 69, 56, 55, 36, 20, 15, 19, 8, 29, 35, 25, 6, 39, 30, 34, 30, 17, 49, 42, 48, 23, 50, 11, 14, 24, 16, 12, 15, 3, 20, 18, 22, 15, 51, 9, 40, 25, 5, 18, 65, 17, 53, 60, 2, 35, 11, 36, 51, 2, 37, 27, 4, 30, 62, 18, 42, 37, 14, 35, 1, 52, 48, 58, 19, 3, 4, 6, 3, 36, 10, 34, 29, 44, 44, 49, 22, 19, 29, 9, 2, 53, 11, 3, 42, 43, 34, 67, 28, 10, 12, 64, 25, 22, 56, 30, 51, 48, 4, 58, 62, 31, 33, 14, 49, 36, 54, 18, 10, 47, 14, 42, 20, 42, 5, 38, 20, 20, 6, 21, 4, 45, 38, 36, 60, 43, 23, 32, 27, 4, 4, 45, 9, 34]\n"
          ]
        }
      ]
    },
    {
      "cell_type": "markdown",
      "source": [
        "Готово! Чистим НЕ возраст"
      ],
      "metadata": {
        "id": "zU5aK-bt-r3E"
      }
    },
    {
      "cell_type": "code",
      "source": [
        "def cleaner(x):\n",
        "    if x < 0:\n",
        "      x = 0\n",
        "    elif x > 10:\n",
        "      x = 10\n",
        "    return x"
      ],
      "metadata": {
        "id": "-_eyqmCc-i9s"
      },
      "execution_count": 223,
      "outputs": []
    },
    {
      "cell_type": "code",
      "source": [
        "cond1 = researh_0[\"condition_after_1\"].tolist()\n",
        "\n",
        "for i in range(len(cond1)):\n",
        "    if cond1[i] < 1:\n",
        "        cond1[i] = 0\n",
        "    elif cond1[i] > 10:\n",
        "        cond1[i] = 10\n",
        "\n",
        "back_to_array = np.array(cond1)\n",
        "\n",
        "researh_0[\"condition_after_1\"] = back_to_array\n",
        "\n",
        "print(researh_0)"
      ],
      "metadata": {
        "id": "v2AUCpHq_Qts"
      },
      "execution_count": null,
      "outputs": []
    },
    {
      "cell_type": "markdown",
      "source": [
        "Кажется, с первым исследованием порядок. Числа на своих местах, всё с ними хорошо. Создадим ещё два набора данных"
      ],
      "metadata": {
        "id": "jRIneNEDCcm0"
      }
    },
    {
      "cell_type": "code",
      "source": [
        "researh_1 = make_research()\n",
        "\n",
        "age1 = researh_1[\"age\"].tolist()\n",
        "\n",
        "for i in range(len(age)):\n",
        "    age1 [i] = abs(round(age[i]))\n",
        "    if age1[i] == 0:\n",
        "       age1[i] = 1\n",
        "\n",
        "\n",
        "back_to_array = np.array(age1)\n",
        "\n",
        "researh_1[\"age\"] = back_to_array\n",
        "\n",
        "cond1 = researh_1[\"condition_after_1\"].tolist()\n",
        "\n",
        "for i in range(len(cond1)):\n",
        "    if cond1[i] < 1:\n",
        "        cond1[i] = 0\n",
        "    elif cond1[i] > 10:\n",
        "        cond1[i] = 10\n",
        "\n",
        "back_to_array = np.array(cond1)\n",
        "\n",
        "researh_1[\"condition_after_1\"] = back_to_array\n",
        "\n",
        "cond10 = researh_1[\"condition_after_10\"].tolist()\n",
        "\n",
        "for i in range(len(cond10)):\n",
        "    if cond10[i] < 1:\n",
        "        cond10[i] = 0\n",
        "    elif cond10[i] > 10:\n",
        "        cond10[i] = 10\n",
        "\n",
        "back_to_array = np.array(cond10)\n",
        "\n",
        "researh_1[\"condition_after_10\"] = back_to_array\n",
        "\n",
        "cond100 = researh_1[\"condition_after_100\"].tolist()\n",
        "\n",
        "for i in range(len(cond100)):\n",
        "    if cond100[i] < 1:\n",
        "        cond100[i] = 0\n",
        "    elif cond100[i] > 10:\n",
        "        cond100[i] = 10\n",
        "\n",
        "back_to_array = np.array(cond100)\n",
        "\n",
        "researh_1[\"condition_after_100\"] = back_to_array\n",
        "\n",
        "\n"
      ],
      "metadata": {
        "id": "aej_Lm9qCr6k"
      },
      "execution_count": 225,
      "outputs": []
    },
    {
      "cell_type": "code",
      "source": [
        "researh_2 = make_research()\n",
        "\n",
        "age1 = researh_2[\"age\"].tolist()\n",
        "\n",
        "for i in range(len(age)):\n",
        "    age1 [i] = abs(round(age[i]))\n",
        "    if age1[i] == 0:\n",
        "       age1[i] = 1\n",
        "\n",
        "\n",
        "back_to_array = np.array(age1)\n",
        "\n",
        "researh_2[\"age\"] = back_to_array\n",
        "\n",
        "cond1 = researh_2[\"condition_after_1\"].tolist()\n",
        "\n",
        "for i in range(len(cond1)):\n",
        "    if cond1[i] < 1:\n",
        "        cond1[i] = 0\n",
        "    elif cond1[i] > 10:\n",
        "        cond1[i] = 10\n",
        "\n",
        "back_to_array = np.array(cond1)\n",
        "\n",
        "researh_2[\"condition_after_1\"] = back_to_array\n",
        "\n",
        "cond10 = researh_2[\"condition_after_10\"].tolist()\n",
        "\n",
        "for i in range(len(cond10)):\n",
        "    if cond10[i] < 1:\n",
        "        cond10[i] = 0\n",
        "    elif cond10[i] > 10:\n",
        "        cond10[i] = 10\n",
        "\n",
        "back_to_array = np.array(cond10)\n",
        "\n",
        "researh_2[\"condition_after_10\"] = back_to_array\n",
        "\n",
        "cond100 = researh_2[\"condition_after_100\"].tolist()\n",
        "\n",
        "for i in range(len(cond100)):\n",
        "    if cond100[i] < 1:\n",
        "        cond100[i] = 0\n",
        "    elif cond100[i] > 10:\n",
        "        cond100[i] = 10\n",
        "\n",
        "back_to_array = np.array(cond100)\n",
        "\n",
        "researh_2[\"condition_after_100\"] = back_to_array\n"
      ],
      "metadata": {
        "id": "tt82nxFbEHQ0"
      },
      "execution_count": 226,
      "outputs": []
    },
    {
      "cell_type": "code",
      "source": [
        "print(\"Первая вакцина. Состояние через 1 день:\", statistics.mean(researh_0[\"condition_after_1\"]),\" Через 10 дней: \", \n",
        "      statistics.mean(researh_0[\"condition_after_10\"]),\" Через 100 дней: \", statistics.mean(researh_0[\"condition_after_100\"]))\n",
        "\n",
        "print(\"Вторая вакцина. Состояние через 1 день:\", statistics.mean(researh_1[\"condition_after_1\"]),\" Через 10 дней: \", \n",
        "      statistics.mean(researh_1[\"condition_after_10\"]),\" Через 100 дней: \", statistics.mean(researh_1[\"condition_after_100\"]))\n",
        "print(\"Третья вакцина. Состояние через 1 день:\", statistics.mean(researh_2[\"condition_after_1\"]),\" Через 10 дней: \", \n",
        "      statistics.mean(researh_2[\"condition_after_10\"]),\" Через 100 дней: \", statistics.mean(researh_2[\"condition_after_100\"]))\n",
        "\n"
      ],
      "metadata": {
        "colab": {
          "base_uri": "https://localhost:8080/"
        },
        "id": "nWWjlc84BTAE",
        "outputId": "3f17b22e-dc31-4b72-962e-c8cb1f826f43"
      },
      "execution_count": 227,
      "outputs": [
        {
          "output_type": "stream",
          "name": "stdout",
          "text": [
            "Первая вакцина. Состояние через 1 день: 4.637222923585003  Через 10 дней:  4.546546761792916  Через 100 дней:  4.081301828580544\n",
            "Вторая вакцина. Состояние через 1 день: 4.525926784813446  Через 10 дней:  4.805617226780222  Через 100 дней:  4.679753135467005\n",
            "Третья вакцина. Состояние через 1 день: 4.398387913642333  Через 10 дней:  4.693906802331876  Через 100 дней:  4.728662779627138\n"
          ]
        }
      ]
    },
    {
      "cell_type": "markdown",
      "source": [
        "Как мы видим, лучше всего больные чувствуют себя спустя 100 дней после вакцинации вакциной №3. Хуже всего — через 100 дней после вакцинации первой. В среднем, вакцина №2 показывает неплохой результат, она эффективнее всего через 10 дней. Но на долгой дистанции (100 дней) лучше всего работает вакцина №3.\n",
        "\n",
        "Теперь посмотрим, как это отразится на графиках"
      ],
      "metadata": {
        "id": "YO95VIVxKY4s"
      }
    },
    {
      "cell_type": "code",
      "source": [
        "mean1 = [statistics.mean(researh_0[\"condition_after_1\"]), statistics.mean(researh_0[\"condition_after_10\"]), statistics.mean(researh_0[\"condition_after_100\"])]\n",
        "\n",
        "mean2 = [statistics.mean(researh_1[\"condition_after_1\"]), statistics.mean(researh_1[\"condition_after_10\"]), statistics.mean(researh_1[\"condition_after_100\"])]\n",
        "\n",
        "mean3 = [statistics.mean(researh_2[\"condition_after_1\"]), statistics.mean(researh_2[\"condition_after_10\"]), statistics.mean(researh_2[\"condition_after_100\"])]\n"
      ],
      "metadata": {
        "id": "sG6hU-yoEdac"
      },
      "execution_count": 228,
      "outputs": []
    },
    {
      "cell_type": "code",
      "source": [
        "labels = [\"1 день\", \"10 дней\", \"100 дней\"]\n",
        "\n",
        "x = np.arange(len(labels)) \n",
        "width = 0.2 \n",
        "\n",
        "fig, ax = plt.subplots()\n",
        "rects1 = ax.bar(x, mean1, width, label=\"Вакцина №1\")\n",
        "rects2 = ax.bar(x + width, mean2, width, label=\"Вакцина №2\")\n",
        "rects3 = ax.bar(x + 2*width, mean3, width, label=\"Вакцина №3\")\n",
        "\n",
        "\n",
        "ax.set_ylabel(\"Оценка самочувствия (из 10)\")\n",
        "ax.set_title(\"Уровень самочувствия\")\n",
        "ax.set_xticks(x + width)\n",
        "ax.set_xticklabels((\"1 день\", \"10 дней\", \"100 дней\"))\n",
        "ax.legend(loc='best', bbox_to_anchor=(0.9, 0., 0.5, 0.5))\n",
        "\n",
        "\n",
        "\n",
        "\n",
        "\n",
        "plt.show()"
      ],
      "metadata": {
        "colab": {
          "base_uri": "https://localhost:8080/",
          "height": 281
        },
        "id": "sA9VkTBxKX12",
        "outputId": "680eb0fd-cb0a-4ad2-9407-5bf7b7cee67c"
      },
      "execution_count": 251,
      "outputs": [
        {
          "output_type": "display_data",
          "data": {
            "text/plain": [
              "<Figure size 432x288 with 1 Axes>"
            ],
            "image/png": "[encoded data removed]"
          },
          "metadata": {
            "needs_background": "light"
          }
        }
      ]
    }
  ]
}